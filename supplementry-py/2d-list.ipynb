{
 "cells": [
  {
   "cell_type": "code",
   "execution_count": 27,
   "metadata": {},
   "outputs": [
    {
     "data": {
      "text/plain": [
       "[[4, 6, 3, 8, 6, 5, 4, 6, 6, 8],\n",
       " [2, 4, 1, 6, 4, 9, 9, 1, 8, 0],\n",
       " [6, 0, 8, 5, 7, 0, 7, 4, 8, 3],\n",
       " [4, 9, 7, 0, 2, 8, 1, 3, 9, 1],\n",
       " [2, 5, 1, 6, 3, 7, 6, 2, 6, 4],\n",
       " [1, 4, 1, 5, 1, 4, 8, 0, 2, 0],\n",
       " [4, 8, 9, 9, 9, 0, 5, 2, 4, 7],\n",
       " [5, 1, 7, 2, 0, 5, 6, 1, 2, 1],\n",
       " [7, 7, 5, 6, 2, 1, 7, 2, 2, 4],\n",
       " [2, 9, 8, 3, 5, 1, 1, 5, 2, 7]]"
      ]
     },
     "execution_count": 27,
     "metadata": {},
     "output_type": "execute_result"
    }
   ],
   "source": [
    "import random\n",
    "arr = [[random.randint(0,9) for i in range(10)] for i in range(10)]\n",
    "arr"
   ]
  },
  {
   "cell_type": "code",
   "execution_count": 28,
   "metadata": {},
   "outputs": [
    {
     "name": "stdout",
     "output_type": "stream",
     "text": [
      "[9, 11, 8, 13, 11, 10, 9, 11, 11, 13]\n",
      "[7, 9, 6, 11, 9, 14, 14, 6, 13, 5]\n",
      "[11, 5, 13, 10, 12, 5, 12, 9, 13, 8]\n",
      "[9, 14, 12, 5, 7, 13, 6, 8, 14, 6]\n",
      "[7, 10, 6, 11, 8, 12, 11, 7, 11, 9]\n",
      "[6, 9, 6, 10, 6, 9, 13, 5, 7, 5]\n",
      "[9, 13, 14, 14, 14, 5, 10, 7, 9, 12]\n",
      "[10, 6, 12, 7, 5, 10, 11, 6, 7, 6]\n",
      "[12, 12, 10, 11, 7, 6, 12, 7, 7, 9]\n",
      "[7, 14, 13, 8, 10, 6, 6, 10, 7, 12]\n"
     ]
    }
   ],
   "source": [
    "for i in range(10):\n",
    "    for j in range(10):\n",
    "        arr[i][j] += 5\n",
    "    print(arr[i])    "
   ]
  },
  {
   "cell_type": "code",
   "execution_count": 30,
   "metadata": {},
   "outputs": [
    {
     "data": {
      "text/plain": [
       "{1, 2, 3, 5, 6, 7, 8}"
      ]
     },
     "execution_count": 30,
     "metadata": {},
     "output_type": "execute_result"
    }
   ],
   "source": [
    "set1 = {random.randint(1,9) for i in range(10)}\n",
    "set1"
   ]
  }
 ],
 "metadata": {
  "kernelspec": {
   "display_name": "Python 3",
   "language": "python",
   "name": "python3"
  },
  "language_info": {
   "codemirror_mode": {
    "name": "ipython",
    "version": 3
   },
   "file_extension": ".py",
   "mimetype": "text/x-python",
   "name": "python",
   "nbconvert_exporter": "python",
   "pygments_lexer": "ipython3",
   "version": "3.12.4"
  }
 },
 "nbformat": 4,
 "nbformat_minor": 2
}
